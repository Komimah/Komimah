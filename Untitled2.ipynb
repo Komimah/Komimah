{
  "nbformat": 4,
  "nbformat_minor": 0,
  "metadata": {
    "colab": {
      "provenance": [],
      "collapsed_sections": [],
      "authorship_tag": "ABX9TyP8esmjRiyyOP0NipWU6vTW",
      "include_colab_link": true
    },
    "kernelspec": {
      "name": "python3",
      "display_name": "Python 3"
    },
    "language_info": {
      "name": "python"
    }
  },
  "cells": [
    {
      "cell_type": "markdown",
      "metadata": {
        "id": "view-in-github",
        "colab_type": "text"
      },
      "source": [
        "<a href=\"https://colab.research.google.com/github/Komimah/Komimah/blob/main/Untitled2.ipynb\" target=\"_parent\"><img src=\"https://colab.research.google.com/assets/colab-badge.svg\" alt=\"Open In Colab\"/></a>"
      ]
    },
    {
      "cell_type": "code",
      "execution_count": 2,
      "metadata": {
        "id": "KSRJ2cBZzAmN",
        "colab": {
          "base_uri": "https://localhost:8080/"
        },
        "outputId": "d56b8d1c-6a1c-4fcd-a941-e5627413697f"
      },
      "outputs": [
        {
          "output_type": "stream",
          "name": "stdout",
          "text": [
            "even number: True\n"
          ]
        }
      ],
      "source": [
        "def check_even_odd(num):\n",
        "    if num%2==0:\n",
        "        print(\"even number:\", True)\n",
        "    else:\n",
        "        print(False)\n",
        "\n",
        "check_even_odd(10)\n"
      ]
    },
    {
      "cell_type": "code",
      "source": [
        "def check_even_odd(num):\n",
        "    if num%2==0:\n",
        "        print(\"even number:\", True)\n",
        "    else:\n",
        "        print(False)\n",
        "\n",
        "check_even_odd(11)"
      ],
      "metadata": {
        "colab": {
          "base_uri": "https://localhost:8080/"
        },
        "id": "j6fCAH7bG23u",
        "outputId": "429a05da-907d-4d58-8e43-52f3a82da703"
      },
      "execution_count": 3,
      "outputs": [
        {
          "output_type": "stream",
          "name": "stdout",
          "text": [
            "False\n"
          ]
        }
      ]
    },
    {
      "cell_type": "code",
      "source": [],
      "metadata": {
        "id": "xUBeutUqEFxX"
      },
      "execution_count": 5,
      "outputs": []
    },
    {
      "cell_type": "code",
      "source": [
        "def function(n):\n",
        "    if n % 2 == 0:\n",
        "        for i in range(0,n + 1,2):\n",
        "            print(i)\n",
        "    else:\n",
        "        print(n / 2)\n",
        "\n",
        "n = input(\"Enter a number: \")\n",
        "function(int(n))"
      ],
      "metadata": {
        "colab": {
          "base_uri": "https://localhost:8080/"
        },
        "id": "hNZhcWuPUJyG",
        "outputId": "91b907f1-d6e7-407d-db60-00f64decc62a"
      },
      "execution_count": 6,
      "outputs": [
        {
          "output_type": "stream",
          "name": "stdout",
          "text": [
            "Enter a number: 6\n",
            "0\n",
            "2\n",
            "4\n",
            "6\n"
          ]
        }
      ]
    },
    {
      "cell_type": "code",
      "source": [
        "def function(n):\n",
        "    if n % 2 == 0:\n",
        "        for i in range(0,n + 1,2):\n",
        "            print(i)\n",
        "    else:\n",
        "        print(n / 2)\n",
        "\n",
        "n = input(\"Enter a number: \")\n",
        "function(int(n))"
      ],
      "metadata": {
        "colab": {
          "base_uri": "https://localhost:8080/"
        },
        "id": "0Sr2IeAo2HQY",
        "outputId": "1050ef15-9739-4883-8c27-89d0224bdae6"
      },
      "execution_count": 9,
      "outputs": [
        {
          "output_type": "stream",
          "name": "stdout",
          "text": [
            "Enter a number: 9\n",
            "4.5\n"
          ]
        }
      ]
    },
    {
      "cell_type": "code",
      "source": [
        "def function(end):\n",
        "    start = 0\n",
        "\n",
        "    for num in range(start, end + 1):\n",
        "        if num % 2 != 0:\n",
        "            print(num, end=\" \")\n",
        "\n",
        "function(end = int(input(\"Insert a number: \")))"
      ],
      "metadata": {
        "colab": {
          "base_uri": "https://localhost:8080/"
        },
        "id": "1dyoiiKymIuJ",
        "outputId": "01bb0865-a806-4456-e542-93d6d38b2f6f"
      },
      "execution_count": 11,
      "outputs": [
        {
          "output_type": "stream",
          "name": "stdout",
          "text": [
            "Insert a number: 4\n",
            "1 3 "
          ]
        }
      ]
    },
    {
      "cell_type": "code",
      "source": [
        "def function(num):\n",
        "    s = sum(range(1, num + 1, 2))\n",
        "    print(s)\n",
        "\n",
        "function(num = int(input(\"Insert number: \")))"
      ],
      "metadata": {
        "colab": {
          "base_uri": "https://localhost:8080/"
        },
        "id": "Ij-aMIB0mtVk",
        "outputId": "780ff00c-d42b-4118-a2bf-6e12f3424130"
      },
      "execution_count": 12,
      "outputs": [
        {
          "output_type": "stream",
          "name": "stdout",
          "text": [
            "Insert number: 6\n",
            "9\n"
          ]
        }
      ]
    },
    {
      "cell_type": "code",
      "source": [
        "def function(num):\n",
        "    s = sum(range(1, num + 1, 2))\n",
        "    print(s)\n",
        "\n",
        "function(num = int(input(\"Insert number: \")))"
      ],
      "metadata": {
        "colab": {
          "base_uri": "https://localhost:8080/"
        },
        "id": "PL5IZROKnSXw",
        "outputId": "6de65623-dc3e-4783-8405-7d8882a93043"
      },
      "execution_count": 13,
      "outputs": [
        {
          "output_type": "stream",
          "name": "stdout",
          "text": [
            "Insert number: 16\n",
            "64\n"
          ]
        }
      ]
    },
    {
      "cell_type": "code",
      "source": [
        "def function(num):\n",
        "  s = sum(range(0, num + 1, 2))\n",
        "  print(s)\n",
        "\n",
        "function (7)"
      ],
      "metadata": {
        "colab": {
          "base_uri": "https://localhost:8080/"
        },
        "id": "I4ckcNe76QTg",
        "outputId": "509452e7-8021-424c-b771-570d3fc1b7b6"
      },
      "execution_count": 63,
      "outputs": [
        {
          "output_type": "stream",
          "name": "stdout",
          "text": [
            "12\n"
          ]
        }
      ]
    },
    {
      "cell_type": "code",
      "source": [],
      "metadata": {
        "id": "OQqsX_ggLkuF"
      },
      "execution_count": null,
      "outputs": []
    },
    {
      "cell_type": "code",
      "source": [
        "def foo(a, b, c):\n",
        "    list = [a, b, c]\n",
        "    min_num = min(list)\n",
        "    square_min_num = min_num * min_num\n",
        "    new_list = list.remove(min_num)\n",
        "    min_num2 = min(list)\n",
        "    square_min_num2 = min_num2 * min_num2\n",
        "    sum = square_min_num + square_min_num2\n",
        "    print(sum)\n",
        "\n",
        "\n",
        "a = int(input(\"Enter a:\"))\n",
        "b = int(input(\"Enter b:\"))\n",
        "c = int(input(\"Enter c:\"))\n",
        "\n",
        "foo(a, b, c)"
      ],
      "metadata": {
        "colab": {
          "base_uri": "https://localhost:8080/"
        },
        "id": "u0kArJKf3XWU",
        "outputId": "94f8569b-fad2-4368-ab14-89ed752c42ee"
      },
      "execution_count": 10,
      "outputs": [
        {
          "output_type": "stream",
          "name": "stdout",
          "text": [
            "Enter a:12\n",
            "Enter b:5\n",
            "Enter c:8\n",
            "89\n"
          ]
        }
      ]
    },
    {
      "cell_type": "code",
      "source": [
        "def foo(a,b,c):\n",
        "    list=[a,b,c]\n",
        "    min_num = min(list)\n",
        "    square_min_num = min_num*min_num\n",
        "    new_list=list.remove(min_num)\n",
        "    min_num2 = min(list)\n",
        "    square_min_num2 = min_num2*min_num2\n",
        "    sum = square_min_num+square_min_num2\n",
        "    print(sum)\n",
        "\n",
        "foo(1,2,3)"
      ],
      "metadata": {
        "colab": {
          "base_uri": "https://localhost:8080/"
        },
        "id": "SC8vOIhSnV8H",
        "outputId": "67d6896c-c284-4d0c-ffd8-97c474905153"
      },
      "execution_count": 11,
      "outputs": [
        {
          "output_type": "stream",
          "name": "stdout",
          "text": [
            "5\n"
          ]
        }
      ]
    }
  ]
}